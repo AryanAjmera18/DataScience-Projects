{
 "cells": [
  {
   "cell_type": "markdown",
   "metadata": {},
   "source": [
    "## Python Logging\n",
    "Logging in Python is a built-in module used for tracking events that happen during the execution of a program. Logging allows developers to record (or \"log\") messages that provide insights into the behavior of their code, which can be useful for debugging, monitoring, and auditing.\n"
   ]
  },
  {
   "cell_type": "code",
   "execution_count": 1,
   "metadata": {},
   "outputs": [
    {
     "name": "stderr",
     "output_type": "stream",
     "text": [
      "DEBUG:root:This is a debug msg\n",
      "INFO:root:this is an info msg\n",
      "WARNING:root:this is an warning msg\n",
      "ERROR:root:this is an error msg\n",
      "CRITICAL:root:this is a critical msg\n"
     ]
    }
   ],
   "source": [
    "import logging\n",
    "\n",
    "## Configure the basic config settings\n",
    "logging.basicConfig(level=logging.DEBUG)\n",
    "## log message\n",
    "logging.debug('This is a debug msg')\n",
    "logging.info(\"this is an info msg\")\n",
    "logging.warning(\"this is an warning msg\")\n",
    "logging.error(\"this is an error msg\")\n",
    "logging.critical(\"this is a critical msg\")"
   ]
  },
  {
   "cell_type": "code",
   "execution_count": 2,
   "metadata": {},
   "outputs": [],
   "source": [
    "## configuring logging \n",
    "import logging\n",
    "logging.basicConfig(\n",
    "    filename='app.log',\n",
    "    filemode='w',\n",
    "    level = logging.DEBUG,\n",
    "    format ='%(asctime)s-%(name)s-%(levelname)s-%(message)s',\n",
    "    datefmt='%Y-%m-%d %H:%M:%S'\n",
    ")\n",
    "logging.debug('This is a debug msg')\n",
    "logging.info(\"this is an info msg\")\n",
    "logging.warning(\"this is an warning msg\")\n",
    "logging.error(\"this is an error msg\")\n",
    "logging.critical(\"this is a critical msg\")"
   ]
  },
  {
   "cell_type": "code",
   "execution_count": null,
   "metadata": {},
   "outputs": [],
   "source": []
  }
 ],
 "metadata": {
  "kernelspec": {
   "display_name": "venv",
   "language": "python",
   "name": "python3"
  },
  "language_info": {
   "codemirror_mode": {
    "name": "ipython",
    "version": 3
   },
   "file_extension": ".py",
   "mimetype": "text/x-python",
   "name": "python",
   "nbconvert_exporter": "python",
   "pygments_lexer": "ipython3",
   "version": "3.12.8"
  }
 },
 "nbformat": 4,
 "nbformat_minor": 2
}
