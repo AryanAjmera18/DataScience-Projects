{
 "cells": [
  {
   "cell_type": "markdown",
   "metadata": {},
   "source": [
    "## Multi Threading and Multiprocessing"
   ]
  },
  {
   "cell_type": "code",
   "execution_count": 7,
   "metadata": {},
   "outputs": [
    {
     "name": "stdout",
     "output_type": "stream",
     "text": [
      "Number:0\n",
      "Letter:a\n",
      "Number:1\n",
      "Letter:b\n",
      "Letter:c\n",
      "Number:2\n",
      "Number:3Letter:d\n",
      "\n",
      "Letter:e\n",
      "Number:4\n",
      "5.005647659301758\n"
     ]
    }
   ],
   "source": [
    "import threading\n",
    "import time\n",
    "\n",
    "def print_numbers():\n",
    "    for i in range(5):\n",
    "        time.sleep(1)\n",
    "        print(f\"Number:{i}\")\n",
    "def print_letter():\n",
    "    for letter in \"abcde\":\n",
    "        time.sleep(1)\n",
    "        print(f\"Letter:{letter}\")\n",
    "\n",
    "## create two threads\n",
    "t1 = threading.Thread(target=print_numbers)        \n",
    "t2 = threading.Thread(target=print_letter)        \n",
    "t = time.time()\n",
    "t1.start()\n",
    "t2.start()  \n",
    "\n",
    "## wait for the threads to complete\n",
    "t1.join()\n",
    "t2.join()\n",
    "finished_time = time.time()-t   \n",
    "print(finished_time) \n"
   ]
  },
  {
   "cell_type": "code",
   "execution_count": 10,
   "metadata": {},
   "outputs": [
    {
     "name": "stdout",
     "output_type": "stream",
     "text": [
      "0.07451987266540527\n"
     ]
    }
   ],
   "source": [
    "## process that can run in parrallel eg:- CPU bound heavy task\n",
    "import multiprocessing\n",
    "import time\n",
    "\n",
    "def square_numbers():\n",
    "    for i in range(5):\n",
    "     time.sleep(1)\n",
    "     print(f\"sqaure{i**2}\")\n",
    "\n",
    "def cube_numbers():\n",
    "    for i in range(5):\n",
    "       time.sleep(1)\n",
    "       print(f\"sqaure{i**3}\")\n",
    "\n",
    "\n",
    "if __name__ ==\"__main__\":\n",
    "    ## create 2 process\n",
    "    p1 = multiprocessing.Process(target=square_numbers)\n",
    "    p2 = multiprocessing.Process(target=cube_numbers)\n",
    "    t = time.time()\n",
    "    p1.start()       \n",
    "    p2.start()\n",
    "\n",
    "    p1.join()\n",
    "    p2.join()\n",
    "\n",
    "    exe_time = time.time()-t\n",
    "    print(exe_time)"
   ]
  },
  {
   "cell_type": "code",
   "execution_count": 15,
   "metadata": {},
   "outputs": [
    {
     "name": "stdout",
     "output_type": "stream",
     "text": [
      "Number:1\n",
      "Number:2\n",
      "Number:3\n",
      "Number:4\n",
      "Number:5\n"
     ]
    }
   ],
   "source": [
    "## Multithreading with thread pool executor \n",
    "\n",
    "from concurrent.futures import ThreadPoolExecutor\n",
    "import time\n",
    "def print_numbers(number):\n",
    "    time.sleep(1)\n",
    "    return f\"Number:{number}\"\n",
    "\n",
    "numbers =[1,2,3,4,5]\n",
    "if __name__==\"__main__\":\n",
    "    with ThreadPoolExecutor(max_workers=3) as executor:\n",
    "        results = executor.map(print_numbers,numbers)\n",
    "\n",
    "    for result in results:\n",
    "        print(result)"
   ]
  },
  {
   "cell_type": "code",
   "execution_count": null,
   "metadata": {},
   "outputs": [],
   "source": [
    "import time\n",
    "from concurrent.futures import ProcessPoolExecutor\n",
    "\n",
    "def square_numbers(number):\n",
    "    time.sleep(1)\n",
    "    return f\"square: {number * number}\"\n",
    "\n",
    "numbers = [1, 2, 3, 4, 5]\n",
    "\n",
    "if __name__ == \"__main__\":\n",
    "    with ProcessPoolExecutor(max_workers=3) as executor:\n",
    "        results = executor.map(square_numbers, numbers)\n",
    "    \n",
    "    for result in results:\n",
    "        print(result)\n"
   ]
  },
  {
   "cell_type": "code",
   "execution_count": 1,
   "metadata": {},
   "outputs": [
    {
     "name": "stdout",
     "output_type": "stream",
     "text": [
      "2\n"
     ]
    }
   ],
   "source": [
    "## Memory Mangement in Python\n",
    "## Refrence counting\n",
    "import sys\n",
    "a=[]\n",
    "print(sys.getrefcount(a))\n",
    "\n"
   ]
  },
  {
   "cell_type": "code",
   "execution_count": 2,
   "metadata": {},
   "outputs": [],
   "source": [
    "## Garbage collection\n",
    "import gc\n",
    "## Enable garbagecollection()\n",
    "gc.enable()"
   ]
  },
  {
   "cell_type": "code",
   "execution_count": 3,
   "metadata": {},
   "outputs": [
    {
     "data": {
      "text/plain": [
       "128"
      ]
     },
     "execution_count": 3,
     "metadata": {},
     "output_type": "execute_result"
    }
   ],
   "source": [
    "gc.collect()"
   ]
  },
  {
   "cell_type": "code",
   "execution_count": 5,
   "metadata": {},
   "outputs": [
    {
     "name": "stdout",
     "output_type": "stream",
     "text": [
      "[{'collections': 168, 'collected': 1223, 'uncollectable': 0}, {'collections': 15, 'collected': 511, 'uncollectable': 0}, {'collections': 2, 'collected': 128, 'uncollectable': 0}]\n"
     ]
    }
   ],
   "source": [
    "## Get garbage collection stats\n",
    "print(gc.get_stats())"
   ]
  },
  {
   "cell_type": "markdown",
   "metadata": {},
   "source": [
    "## Memory Management Best Practices\n"
   ]
  },
  {
   "cell_type": "code",
   "execution_count": 6,
   "metadata": {},
   "outputs": [],
   "source": [
    "import gc"
   ]
  },
  {
   "cell_type": "code",
   "execution_count": 7,
   "metadata": {},
   "outputs": [
    {
     "name": "stdout",
     "output_type": "stream",
     "text": [
      "Obejctobj1 created\n",
      "Obejctobj2 created\n",
      "Obejct obj1 deleted\n",
      "Obejct obj2 deleted\n"
     ]
    },
    {
     "data": {
      "text/plain": [
       "46"
      ]
     },
     "execution_count": 7,
     "metadata": {},
     "output_type": "execute_result"
    }
   ],
   "source": [
    "class MyObject:\n",
    "    def __init__(self,name):\n",
    "        self.name = name\n",
    "        print(f\"Obejct{self.name} created\")\n",
    "\n",
    "    def __del__(self):\n",
    "        print(f\"Obejct {self.name} deleted\") \n",
    "\n",
    "\n",
    "## Create circular reference\n",
    "obj1 = MyObject(\"obj1\")           \n",
    "obj2 = MyObject(\"obj2\")\n",
    "obj1.ref   =obj2         \n",
    "obj2.ref   =obj1\n",
    "\n",
    "del obj1\n",
    "del obj2\n",
    "\n",
    "## manually trigger the garbage collection\n",
    "\n",
    "gc.collect()"
   ]
  },
  {
   "cell_type": "code",
   "execution_count": 9,
   "metadata": {},
   "outputs": [
    {
     "name": "stdout",
     "output_type": "stream",
     "text": [
      "0\n",
      "1\n",
      "2\n",
      "3\n",
      "4\n",
      "5\n",
      "6\n",
      "7\n",
      "8\n",
      "9\n",
      "10\n",
      "11\n"
     ]
    }
   ],
   "source": [
    "## Generators fopr Memory efficency\n",
    "def henerate_no(n):\n",
    "    for i in range(n):\n",
    "        yield i\n",
    "\n",
    "for num in  henerate_no(100000):\n",
    "    print(num)\n",
    "    if num>10:\n",
    "        break\n"
   ]
  },
  {
   "cell_type": "code",
   "execution_count": null,
   "metadata": {},
   "outputs": [],
   "source": []
  }
 ],
 "metadata": {
  "kernelspec": {
   "display_name": "venv",
   "language": "python",
   "name": "python3"
  },
  "language_info": {
   "codemirror_mode": {
    "name": "ipython",
    "version": 3
   },
   "file_extension": ".py",
   "mimetype": "text/x-python",
   "name": "python",
   "nbconvert_exporter": "python",
   "pygments_lexer": "ipython3",
   "version": "3.12.8"
  }
 },
 "nbformat": 4,
 "nbformat_minor": 2
}
